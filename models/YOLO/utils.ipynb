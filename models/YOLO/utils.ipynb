{
 "cells": [
  {
   "cell_type": "markdown",
   "metadata": {},
   "source": [
    "- yolov3연산에 필요한 함수들을 정의한다.\n",
    "\n",
    "1. bbox_wh_iou : 처음에 bbox가 true인지 아닌지 판단시 anchor box의 위치는 고려하지 않고 크기 (w,h)만 고려하여 비교한다.\n",
    "2. NMS\n",
    "3.bbox_corner : bbox들의 좌표를 가지고 꼭짓점을 구한다 > iou계산을 쉽게하기 위함"
   ]
  },
  {
   "cell_type": "code",
   "execution_count": null,
   "metadata": {},
   "outputs": [],
   "source": [
    "def bbox_wh_iou(bbox_wh1,bbox_wh2):\n",
    "    "
   ]
  },
  {
   "cell_type": "code",
   "execution_count": null,
   "metadata": {},
   "outputs": [],
   "source": [
    "def Non_max_suppression(pred_bbox,conf_thres):\n",
    "    pred[...,:4]=bbox_corner(pred_bbox[...,:4]) # xywh -> xyxy\n",
    "    output=[None for _ in range(len(pred))]\n",
    "    \n",
    "    for i, img_pred in enumerate(pred):\n",
    "        # filtering\n",
    "        img_pred=img_pred[img_pred[:,4] >= conf_thres] # 임계값보다 높은  즉 조건문의 true인 데이터들만 return\n",
    "        \n",
    "        score="
   ]
  },
  {
   "cell_type": "code",
   "execution_count": null,
   "metadata": {},
   "outputs": [],
   "source": [
    "def bbox_corner(pred_bbox):\n",
    "    box_corner=pred_bbox.new(pred_bbox.shape) # 복사..\n",
    "    box_corner[...,0]=pred_bbox[...,0]-pred_bbox[...,2]/2\n",
    "    box_corner[...,1]=pred_bbox[...,1]-pred_bbox[...,3]/2\n",
    "    box_corner[...,2]=pred_bbox[...,0]+pred_bbox[...,2]/2\n",
    "    box_corner[...,3]=pred_bbox[...,1]+pred_bbox[...,3]/2\n",
    "    return box_corner"
   ]
  }
 ],
 "metadata": {
  "kernelspec": {
   "display_name": "torch",
   "language": "python",
   "name": "torch"
  },
  "language_info": {
   "codemirror_mode": {
    "name": "ipython",
    "version": 3
   },
   "file_extension": ".py",
   "mimetype": "text/x-python",
   "name": "python",
   "nbconvert_exporter": "python",
   "pygments_lexer": "ipython3",
   "version": "3.7.9"
  }
 },
 "nbformat": 4,
 "nbformat_minor": 4
}
